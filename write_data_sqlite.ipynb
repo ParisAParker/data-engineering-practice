{
 "cells": [
  {
   "cell_type": "code",
   "execution_count": 10,
   "metadata": {},
   "outputs": [],
   "source": [
    "import sqlite3\n",
    "from pathlib import Path\n",
    "import pandas as pd"
   ]
  },
  {
   "cell_type": "code",
   "execution_count": 2,
   "metadata": {},
   "outputs": [],
   "source": [
    "# Define data folder path\n",
    "data_folder = Path.cwd() / 'data'\n",
    "\n",
    "# Define connection and cursor\n",
    "conn = sqlite3.connect(data_folder / 'market_data.db')\n",
    "cursor = conn.cursor()"
   ]
  },
  {
   "cell_type": "code",
   "execution_count": 5,
   "metadata": {},
   "outputs": [
    {
     "data": {
      "text/plain": [
       "<sqlite3.Cursor at 0x28c8c367340>"
      ]
     },
     "execution_count": 5,
     "metadata": {},
     "output_type": "execute_result"
    }
   ],
   "source": [
    "cursor.execute(\"SELECT name FROM sqlite_master WHERE type='table'\")\n"
   ]
  },
  {
   "cell_type": "code",
   "execution_count": 14,
   "metadata": {},
   "outputs": [
    {
     "data": {
      "text/html": [
       "<div>\n",
       "<style scoped>\n",
       "    .dataframe tbody tr th:only-of-type {\n",
       "        vertical-align: middle;\n",
       "    }\n",
       "\n",
       "    .dataframe tbody tr th {\n",
       "        vertical-align: top;\n",
       "    }\n",
       "\n",
       "    .dataframe thead th {\n",
       "        text-align: right;\n",
       "    }\n",
       "</style>\n",
       "<table border=\"1\" class=\"dataframe\">\n",
       "  <thead>\n",
       "    <tr style=\"text-align: right;\">\n",
       "      <th></th>\n",
       "      <th>Open</th>\n",
       "      <th>High</th>\n",
       "      <th>Low</th>\n",
       "      <th>Close</th>\n",
       "      <th>Volume</th>\n",
       "      <th>Dividends</th>\n",
       "      <th>Stock_Splits</th>\n",
       "    </tr>\n",
       "  </thead>\n",
       "  <tbody>\n",
       "    <tr>\n",
       "      <th>0</th>\n",
       "      <td>0.054376</td>\n",
       "      <td>0.062373</td>\n",
       "      <td>0.054376</td>\n",
       "      <td>0.059707</td>\n",
       "      <td>1031788800</td>\n",
       "      <td>0.0</td>\n",
       "      <td>0.0</td>\n",
       "    </tr>\n",
       "    <tr>\n",
       "      <th>1</th>\n",
       "      <td>0.059707</td>\n",
       "      <td>0.062906</td>\n",
       "      <td>0.059707</td>\n",
       "      <td>0.061839</td>\n",
       "      <td>308160000</td>\n",
       "      <td>0.0</td>\n",
       "      <td>0.0</td>\n",
       "    </tr>\n",
       "    <tr>\n",
       "      <th>2</th>\n",
       "      <td>0.061839</td>\n",
       "      <td>0.063439</td>\n",
       "      <td>0.061839</td>\n",
       "      <td>0.062906</td>\n",
       "      <td>133171200</td>\n",
       "      <td>0.0</td>\n",
       "      <td>0.0</td>\n",
       "    </tr>\n",
       "    <tr>\n",
       "      <th>3</th>\n",
       "      <td>0.062906</td>\n",
       "      <td>0.063439</td>\n",
       "      <td>0.060773</td>\n",
       "      <td>0.061306</td>\n",
       "      <td>67766400</td>\n",
       "      <td>0.0</td>\n",
       "      <td>0.0</td>\n",
       "    </tr>\n",
       "    <tr>\n",
       "      <th>4</th>\n",
       "      <td>0.061306</td>\n",
       "      <td>0.061839</td>\n",
       "      <td>0.059707</td>\n",
       "      <td>0.060240</td>\n",
       "      <td>47894400</td>\n",
       "      <td>0.0</td>\n",
       "      <td>0.0</td>\n",
       "    </tr>\n",
       "    <tr>\n",
       "      <th>...</th>\n",
       "      <td>...</td>\n",
       "      <td>...</td>\n",
       "      <td>...</td>\n",
       "      <td>...</td>\n",
       "      <td>...</td>\n",
       "      <td>...</td>\n",
       "      <td>...</td>\n",
       "    </tr>\n",
       "    <tr>\n",
       "      <th>9839825</th>\n",
       "      <td>382.950012</td>\n",
       "      <td>385.220001</td>\n",
       "      <td>378.950012</td>\n",
       "      <td>383.269989</td>\n",
       "      <td>24253600</td>\n",
       "      <td>0.0</td>\n",
       "      <td>0.0</td>\n",
       "    </tr>\n",
       "    <tr>\n",
       "      <th>9839826</th>\n",
       "      <td>383.160004</td>\n",
       "      <td>385.320007</td>\n",
       "      <td>377.450012</td>\n",
       "      <td>378.769989</td>\n",
       "      <td>20473000</td>\n",
       "      <td>0.0</td>\n",
       "      <td>0.0</td>\n",
       "    </tr>\n",
       "    <tr>\n",
       "      <th>9839827</th>\n",
       "      <td>379.779999</td>\n",
       "      <td>390.230011</td>\n",
       "      <td>379.510010</td>\n",
       "      <td>388.559998</td>\n",
       "      <td>19952800</td>\n",
       "      <td>0.0</td>\n",
       "      <td>0.0</td>\n",
       "    </tr>\n",
       "    <tr>\n",
       "      <th>9839828</th>\n",
       "      <td>386.700012</td>\n",
       "      <td>392.709991</td>\n",
       "      <td>385.570007</td>\n",
       "      <td>388.700012</td>\n",
       "      <td>22474300</td>\n",
       "      <td>0.0</td>\n",
       "      <td>0.0</td>\n",
       "    </tr>\n",
       "    <tr>\n",
       "      <th>9839829</th>\n",
       "      <td>387.279999</td>\n",
       "      <td>387.369995</td>\n",
       "      <td>381.140015</td>\n",
       "      <td>383.519989</td>\n",
       "      <td>17266696</td>\n",
       "      <td>0.0</td>\n",
       "      <td>0.0</td>\n",
       "    </tr>\n",
       "  </tbody>\n",
       "</table>\n",
       "<p>9839830 rows × 7 columns</p>\n",
       "</div>"
      ],
      "text/plain": [
       "               Open        High         Low       Close      Volume  \\\n",
       "0          0.054376    0.062373    0.054376    0.059707  1031788800   \n",
       "1          0.059707    0.062906    0.059707    0.061839   308160000   \n",
       "2          0.061839    0.063439    0.061839    0.062906   133171200   \n",
       "3          0.062906    0.063439    0.060773    0.061306    67766400   \n",
       "4          0.061306    0.061839    0.059707    0.060240    47894400   \n",
       "...             ...         ...         ...         ...         ...   \n",
       "9839825  382.950012  385.220001  378.950012  383.269989    24253600   \n",
       "9839826  383.160004  385.320007  377.450012  378.769989    20473000   \n",
       "9839827  379.779999  390.230011  379.510010  388.559998    19952800   \n",
       "9839828  386.700012  392.709991  385.570007  388.700012    22474300   \n",
       "9839829  387.279999  387.369995  381.140015  383.519989    17266696   \n",
       "\n",
       "         Dividends  Stock_Splits  \n",
       "0              0.0           0.0  \n",
       "1              0.0           0.0  \n",
       "2              0.0           0.0  \n",
       "3              0.0           0.0  \n",
       "4              0.0           0.0  \n",
       "...            ...           ...  \n",
       "9839825        0.0           0.0  \n",
       "9839826        0.0           0.0  \n",
       "9839827        0.0           0.0  \n",
       "9839828        0.0           0.0  \n",
       "9839829        0.0           0.0  \n",
       "\n",
       "[9839830 rows x 7 columns]"
      ]
     },
     "execution_count": 14,
     "metadata": {},
     "output_type": "execute_result"
    }
   ],
   "source": [
    "pd.read_sql(\"SELECT * FROM historical_prices\", conn)"
   ]
  },
  {
   "cell_type": "code",
   "execution_count": 6,
   "metadata": {},
   "outputs": [
    {
     "data": {
      "text/plain": [
       "[('customers',), ('historical_prices',), ('test_large_data',)]"
      ]
     },
     "execution_count": 6,
     "metadata": {},
     "output_type": "execute_result"
    }
   ],
   "source": [
    "cursor.fetchall()"
   ]
  }
 ],
 "metadata": {
  "kernelspec": {
   "display_name": ".venv",
   "language": "python",
   "name": "python3"
  },
  "language_info": {
   "codemirror_mode": {
    "name": "ipython",
    "version": 3
   },
   "file_extension": ".py",
   "mimetype": "text/x-python",
   "name": "python",
   "nbconvert_exporter": "python",
   "pygments_lexer": "ipython3",
   "version": "3.10.10"
  }
 },
 "nbformat": 4,
 "nbformat_minor": 2
}
